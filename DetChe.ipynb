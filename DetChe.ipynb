{
 "cells": [
  {
   "cell_type": "markdown",
   "metadata": {},
   "source": [
    "# Detector Cherenkov"
   ]
  },
  {
   "cell_type": "code",
   "execution_count": 56,
   "metadata": {
    "scrolled": true
   },
   "outputs": [
    {
     "name": "stdout",
     "output_type": "stream",
     "text": [
      "ULTIMAS CUATRO LINEAS. PRIMERA COLUMNA\n",
      "Por favor, ingrese el nombre del archivo: Chitaga_2016_08_12_12h00.dat.bz2\n",
      "Tamaño 2998576\n",
      "1.0\n"
     ]
    },
    {
     "data": {
      "image/png": "[encoded data removed]",
      "text/plain": [
       "<Figure size 432x288 with 1 Axes>"
      ]
     },
     "metadata": {
      "needs_background": "light"
     },
     "output_type": "display_data"
    }
   ],
   "source": [
    "import bz2\n",
    "from numpy import empty\n",
    "from pylab import*\n",
    "#import matplotlib.pyplot as pl \n",
    "#import numpy as np\n",
    "print(\"ULTIMAS CUATRO LINEAS. PRIMERA COLUMNA\")\n",
    "n = 0\n",
    "A=[]\n",
    "B=[]\n",
    "ln=0\n",
    "with bz2.open( input (\"Por favor, ingrese el nombre del archivo: \"), \"rt\" ) as bz_file:\n",
    "     for line in bz_file:\n",
    "        rline = line.rstrip('\\n').split(' ')\n",
    "        if len(rline)==3: #Solo toma las filas con tres elementos\n",
    "            #print( rline[0],rline[1],rline[2])\n",
    "            if rline[0]==\"#\":\n",
    "                ln=0\n",
    "            if rline[0]!=\"#\":\n",
    "                if ln>=8:\n",
    "                    A.append(int(rline[0]))\n",
    "                    \n",
    "                #else:\n",
    "                ln+=1\n",
    "                #print(\"Pulso \",ln,\": \",A)    \n",
    "        n += 1\n",
    "        #if n == 1000:\n",
    "         #   break\n",
    "#print(\"Pulso \",A)\n",
    "#plot(A)\n",
    "print(\"Tamaño\",(len(A)))\n",
    "\n",
    "# Histogram parameters\n",
    "hist1 = [] # Array for histogram\n",
    "startBin = 0. #Valores alrededor de datos de la lista\n",
    "endBin = 1500.\n",
    "nbins = 1500\n",
    "binwidth = (endBin - startBin) / nbins\n",
    "print(binwidth)\n",
    "\n",
    "[hist1.append(0) for i in range(nbins)] # Inizialiting histo\n",
    "# Filling histogram\n",
    "for i in A:\n",
    "    #print(i)\n",
    "    hist1[ int((i/binwidth)) ] += 1 #El 40 es para que la lista no se salga del rango\n",
    "\n",
    "bines1=[]\n",
    "[bines1.append((i)*binwidth) for i in range(nbins)]   \n",
    "\n",
    "plot(bines1, hist1, 'o')\n",
    "#xlim(0,100)\n",
    "yscale('log')\n",
    "grid('on',ls='-.')\n",
    "show()\n",
    "         \n",
    "\n",
    "\n",
    "#Chitaga_2016_08_12_12h00.dat.bz2"
   ]
  },
  {
   "cell_type": "code",
   "execution_count": 38,
   "metadata": {},
   "outputs": [
    {
     "name": "stdout",
     "output_type": "stream",
     "text": [
      "Valor Medio es : 51.3\n",
      "Varianza es : 37.02\n",
      "Desviación estandar es : 6.08\n",
      "SKEWNESS: La distribución se inclina a la derecha, con un valor de Skew=  36.52\n",
      "KURTOSIS: La distribución es leptokurtic, con un valor de Kurt=  3109.86\n"
     ]
    }
   ],
   "source": [
    "#Hallando la media, la varianza, desviación con la lista anterior\n",
    "nevents=len(A)\n",
    "x=0\n",
    "Var=0\n",
    "for i in range(nevents):\n",
    "    x+=A[i]\n",
    "    xmedio1=x/nevents\n",
    "print(\"Valor Medio es :\",round(xmedio1,2))\n",
    "for i in range(nevents):\n",
    "    Var+=(A[i]-xmedio1)**2\n",
    "varianza=Var/(nevents-1 )\n",
    "print(\"Varianza es :\",round(varianza,2))\n",
    "sigma=sqrt(varianza)\n",
    "print(\"Desviación estandar es :\",round(sigma,2))\n",
    "skew=0\n",
    "for i in range(nevents):\n",
    "    skew+=((A[i]-xmedio1)/sigma)**3\n",
    "skewn=skew/nevents    \n",
    "if skewn<0:\n",
    "    print(\"SKEWNESS: La distribución se inclina a la izquierda, con un valor de Skew= \",round(skewn,2))\n",
    "else:\n",
    "    print(\"SKEWNESS: La distribución se inclina a la derecha, con un valor de Skew= \",round(skewn,2))\n",
    "kurt=0\n",
    "for i in range(nevents):\n",
    "    kurt+=(((A[i]-xmedio1)/sigma)**4)-3\n",
    "kurto=kurt/nevents\n",
    "#kurt=((1/nevents)*((tmp[h][i]-xmedio)/sigma)**4)\n",
    "if kurto<0:\n",
    "    print(\"KURTOSIS: La distribución es platykurtic, con un valor de Kurt= \",round(kurto,2))\n",
    "else:\n",
    "    print(\"KURTOSIS: La distribución es leptokurtic, con un valor de Kurt= \",round(kurto,2))"
   ]
  },
  {
   "cell_type": "code",
   "execution_count": 8,
   "metadata": {},
   "outputs": [
    {
     "name": "stdout",
     "output_type": "stream",
     "text": [
      "PRIMERAS DOS LINEAS. PRIMERA COLUMNA\n",
      "Por favor, ingrese el nombre del archivo: Chitaga_2016_08_12_12h00.dat.bz2\n",
      "Tamaño 1499236\n"
     ]
    },
    {
     "data": {
      "image/png": "[encoded data removed]",
      "text/plain": [
       "<Figure size 432x288 with 1 Axes>"
      ]
     },
     "metadata": {
      "needs_background": "light"
     },
     "output_type": "display_data"
    }
   ],
   "source": [
    "import bz2\n",
    "from numpy import empty\n",
    "from pylab import*\n",
    "print(\"PRIMERAS DOS LINEAS. PRIMERA COLUMNA\")\n",
    "n = 0\n",
    "B=[]\n",
    "ln=0\n",
    "with bz2.open( input (\"Por favor, ingrese el nombre del archivo: \"), \"rt\" ) as bz_file:\n",
    "     for line in bz_file:\n",
    "        rline = line.rstrip('\\n').split(' ')\n",
    "        if len(rline)==3: #Solo toma las filas con tres elementos\n",
    "            #print( rline[0],rline[1],rline[2])\n",
    "            if rline[0]==\"#\":\n",
    "                ln=0\n",
    "            if rline[0]!=\"#\":\n",
    "                if ln<=1:\n",
    "                    B.append(int(rline[0]))    \n",
    "                #else:\n",
    "                ln+=1\n",
    "                #print(\"Pulso \",ln,\": \",A)    \n",
    "        #n += 1\n",
    "        #if n == 80:\n",
    "        #    break\n",
    "#print(\"Pulso \",B)\n",
    "#plot(B)\n",
    "print(\"Tamaño\",(len(B)))\n",
    "\n",
    "# Histogram parameters\n",
    "hist2 = [] # Array for histogram\n",
    "startBin = 0. #Valores alrededor de datos de la lista\n",
    "endBin = 1500.\n",
    "nbins = 1500\n",
    "binwidth = (endBin - startBin) / nbins\n",
    "#print(binwidth)\n",
    "\n",
    "[hist2.append(0) for i in range(nbins)] # Inizialiting histo\n",
    "# Filling histogram\n",
    "for i in B:\n",
    "    #print(i)\n",
    "    hist2[ int((i/binwidth)) ] += 1 #El 40 es para que la lista no se salga del rango\n",
    "\n",
    "bines2=[]\n",
    "[bines2.append((i)*binwidth) for i in range(nbins)]   \n",
    "\n",
    "plot(bines2, hist2, 'o')\n",
    "xlim(0,100)\n",
    "yscale('log')\n",
    "grid('on',ls='-.')\n",
    "show()\n",
    "\n",
    "#Chitaga_2016_08_12_12h00.dat.bz2"
   ]
  },
  {
   "cell_type": "code",
   "execution_count": 39,
   "metadata": {},
   "outputs": [
    {
     "name": "stdout",
     "output_type": "stream",
     "text": [
      "Valor Medio es : 51.64\n",
      "Varianza es : 50.29\n",
      "Desviación estandar es : 7.09\n",
      "SKEWNESS: La distribución se inclina a la derecha, con un valor de Skew=  4.06\n",
      "KURTOSIS: La distribución es leptokurtic, con un valor de Kurt=  19.13\n"
     ]
    }
   ],
   "source": [
    "#Hallando la media, la varianza, desviación con la lista anterior\n",
    "nevents=len(B)\n",
    "x=0\n",
    "Var=0\n",
    "for i in range(nevents):\n",
    "    x+=B[i]\n",
    "    xmedio2=x/nevents\n",
    "print(\"Valor Medio es :\",round(xmedio2,2))\n",
    "for i in range(nevents):\n",
    "    Var+=(B[i]-xmedio2)**2\n",
    "varianza=Var/(nevents-1 )\n",
    "print(\"Varianza es :\",round(varianza,2))\n",
    "sigma=sqrt(varianza)\n",
    "print(\"Desviación estandar es :\",round(sigma,2))\n",
    "skew=0\n",
    "for i in range(nevents):\n",
    "    skew+=((B[i]-xmedio2)/sigma)**3\n",
    "skewn=skew/nevents    \n",
    "if skewn<0:\n",
    "    print(\"SKEWNESS: La distribución se inclina a la izquierda, con un valor de Skew= \",round(skewn,2))\n",
    "else:\n",
    "    print(\"SKEWNESS: La distribución se inclina a la derecha, con un valor de Skew= \",round(skewn,2))\n",
    "kurt=0\n",
    "for i in range(nevents):\n",
    "    kurt+=(((B[i]-xmedio2)/sigma)**4)-3\n",
    "kurto=kurt/nevents\n",
    "#kurt=((1/nevents)*((tmp[h][i]-xmedio)/sigma)**4)\n",
    "if kurto<0:\n",
    "    print(\"KURTOSIS: La distribución es platykurtic, con un valor de Kurt= \",round(kurto,2))\n",
    "else:\n",
    "    print(\"KURTOSIS: La distribución es leptokurtic, con un valor de Kurt= \",round(kurto,2))"
   ]
  },
  {
   "cell_type": "code",
   "execution_count": 11,
   "metadata": {},
   "outputs": [
    {
     "name": "stdout",
     "output_type": "stream",
     "text": [
      "TODAS LAS LÍNEAS. ULTIMA COLUMNA\n",
      "Por favor, ingrese el nombre del archivo: Chitaga_2016_08_12_12h00.dat.bz2\n",
      "Tamaño 8995413\n"
     ]
    },
    {
     "data": {
      "image/png": "[encoded data removed]",
      "text/plain": [
       "<Figure size 432x288 with 1 Axes>"
      ]
     },
     "metadata": {
      "needs_background": "light"
     },
     "output_type": "display_data"
    }
   ],
   "source": [
    "import bz2\n",
    "from numpy import empty\n",
    "from pylab import*\n",
    "print(\"TODAS LAS LÍNEAS. ULTIMA COLUMNA\")\n",
    "n = 0\n",
    "C=[]\n",
    "ln=0\n",
    "with bz2.open( input (\"Por favor, ingrese el nombre del archivo: \"), \"rt\" ) as bz_file:\n",
    "     for line in bz_file:\n",
    "        rline = line.rstrip('\\n').split(' ')\n",
    "        if len(rline)==3: #Solo toma las filas con tres elementos\n",
    "            #print( rline[0],rline[1],rline[2])\n",
    "            if rline[0]==\"#\":\n",
    "                ln=0\n",
    "            if rline[0]!=\"#\":\n",
    "                if ln<=11:\n",
    "                    C.append(int(rline[2]))\n",
    "                    \n",
    "                #else:\n",
    "                ln+=1\n",
    "                #print(\"Pulso \",ln,\": \",A)    \n",
    "        #n += 1\n",
    "        #if n == 60:\n",
    "        #    break\n",
    "#print(\"Pulso \",C)\n",
    "#plot(C)\n",
    "print(\"Tamaño\",(len(C)))\n",
    "\n",
    "# Histogram parameters\n",
    "hist3 = [] # Array for histogram\n",
    "startBin = 0. #Valores alrededor de datos de la lista\n",
    "endBin = 1500.\n",
    "nbins = 1500\n",
    "binwidth = (endBin - startBin) / nbins\n",
    "#print(binwidth)\n",
    "\n",
    "[hist3.append(0) for i in range(nbins)] # Inizialiting histo\n",
    "# Filling histogram\n",
    "for i in C:\n",
    "    #print(i)\n",
    "    hist3[ int((i/binwidth)) ] += 1 #El 40 es para que la lista no se salga del rango\n",
    "\n",
    "bines3=[]\n",
    "[bines3.append((i)*binwidth) for i in range(nbins)]   \n",
    "\n",
    "plot(bines3, hist3, 'o')\n",
    "xlim(0,100)\n",
    "yscale('log')\n",
    "grid('on',ls='-.')\n",
    "show()\n",
    "\n",
    "#Chitaga_2016_08_12_12h00.dat.bz2"
   ]
  },
  {
   "cell_type": "code",
   "execution_count": 40,
   "metadata": {},
   "outputs": [
    {
     "name": "stdout",
     "output_type": "stream",
     "text": [
      "Valor Medio es : 50.0\n",
      "Varianza es : 0.79\n",
      "Desviación estandar es : 0.89\n",
      "SKEWNESS: La distribución se inclina a la derecha, con un valor de Skew=  1.38\n",
      "KURTOSIS: La distribución es leptokurtic, con un valor de Kurt=  20.56\n"
     ]
    }
   ],
   "source": [
    "#Hallando la media, la varianza, desviación con la lista anterior\n",
    "nevents=len(C)\n",
    "x=0\n",
    "Var=0\n",
    "for i in range(nevents):\n",
    "    x+=C[i]\n",
    "    xmedio3=x/nevents\n",
    "print(\"Valor Medio es :\",round(xmedio3,2))\n",
    "for i in range(nevents):\n",
    "    Var+=(C[i]-xmedio3)**2\n",
    "varianza=Var/(nevents-1 )\n",
    "print(\"Varianza es :\",round(varianza,2))\n",
    "sigma=sqrt(varianza)\n",
    "print(\"Desviación estandar es :\",round(sigma,2))\n",
    "skew=0\n",
    "for i in range(nevents):\n",
    "    skew+=((C[i]-xmedio3)/sigma)**3\n",
    "skewn=skew/nevents    \n",
    "if skewn<0:\n",
    "    print(\"SKEWNESS: La distribución se inclina a la izquierda, con un valor de Skew= \",round(skewn,2))\n",
    "else:\n",
    "    print(\"SKEWNESS: La distribución se inclina a la derecha, con un valor de Skew= \",round(skewn,2))\n",
    "kurt=0\n",
    "for i in range(nevents):\n",
    "    kurt+=(((C[i]-xmedio3)/sigma)**4)-3\n",
    "kurto=kurt/nevents\n",
    "#kurt=((1/nevents)*((tmp[h][i]-xmedio)/sigma)**4)\n",
    "if kurto<0:\n",
    "    print(\"KURTOSIS: La distribución es platykurtic, con un valor de Kurt= \",round(kurto,2))\n",
    "else:\n",
    "    print(\"KURTOSIS: La distribución es leptokurtic, con un valor de Kurt= \",round(kurto,2))\n",
    "    "
   ]
  },
  {
   "cell_type": "markdown",
   "metadata": {},
   "source": [
    "## Reporte"
   ]
  },
  {
   "cell_type": "markdown",
   "metadata": {},
   "source": [
    "Teniendo en cuenta el funcionamiento del Detetector Cherenkov, con la finalidad de detectar la caída de Rayos Cósmicos; lo realizado en este notebook fue analizar el comportamiento de los dos primeros bines y de los cuatro últimos bines dejando libre la tercera columna (línea base), y por último, todos los bines de la tercera columna, para luego comparar lo obtenido para los tres estudios.\n",
    "\n",
    "La lectura de los dos primeros bines como de los últimos cuatro nos demuestran la compatibilidad que tienen en sus comportamientos por lo que se asume que tomando ya sea los dos primeros o los últimos cuatro, se tendrá la información necesaria para el análisis del detector. \n",
    "Se dice que este mismo análisis se puede realizar de igual modo con todos los bines de la última columna, pues su comportamiento debería ser similar al obtenido anteriormente con los dos conjuntos de datos, pero en nuestro caso al observar el comportamiento de la completitud de los bines, se puede notar una diferencia bastante grande y sin tener una razón exacta de por qué, se podría decir que es debido al numero de datos en cada conjunto ya que hay 1.499.236, 2.998.576 y 8.995.413 para los dos primeros, cuatro últimos y todos los bines, respectivamente.\n",
    "Lo dicho anteriormente se puede verificar al calcular los momentos de cada una de las distribuciones pues para dos, cuatro y todos los bines se obtuvieron los siguientes valores respectivamente:\n",
    "\n",
    "* Media: 51,64, 51,3 y 50,0\n",
    "* Varianza: 50,29, 37,02 y 0,79\n",
    "* Desviación estandar: 7,09, 6,08 y 0,89\n",
    "* Skewness: 4,06, 36,52 y 1,38\n",
    "* Kurtosis: 19,13, 3109 y 20,56\n",
    "\n",
    "En la información anterior se puede ver que para los dos primeros, y cuatro últimos bines de la primea columna los datos para la media, la varianza y la desviación estándar, son más aproximados en comparación a todos los bines de la última columna."
   ]
  },
  {
   "cell_type": "markdown",
   "metadata": {},
   "source": [
    "## Diferencia significativa entre valores medios"
   ]
  },
  {
   "cell_type": "code",
   "execution_count": 53,
   "metadata": {},
   "outputs": [],
   "source": [
    "import numpy as np\n",
    "from scipy.stats import cauchy, t\n",
    "N1=len(A) #Numero de datos de 4 ultimos bines\n",
    "N2=len(B) #Numero de datos de 2 primeros bines\n",
    "N3=len(C) #Numero de datos del canal 3\n",
    "sumA=0\n",
    "sumB=0\n",
    "sumC=0\n",
    "for i in A: #cuatro bnes\n",
    "    sumA+=(i-xmedio1)**2\n",
    "    #sum1+=1\n",
    "for j in B: #dos bines\n",
    "    sumB+=(j-xmedio2)**2\n",
    "    #sum2+=1\n",
    "for k in C: #canal 3\n",
    "    sumC+=(k-xmedio3)**2\n",
    "    #sum3+=1\n",
    "#print(sum1)"
   ]
  },
  {
   "cell_type": "markdown",
   "metadata": {},
   "source": [
    "* ### Comparación ($Ch_3 | 4_{bin}$)"
   ]
  },
  {
   "cell_type": "code",
   "execution_count": 72,
   "metadata": {},
   "outputs": [
    {
     "data": {
      "image/png": "[encoded data removed]",
      "text/plain": [
       "<Figure size 432x288 with 1 Axes>"
      ]
     },
     "metadata": {
      "needs_background": "light"
     },
     "output_type": "display_data"
    },
    {
     "name": "stdout",
     "output_type": "stream",
     "text": [
      "t_3,4 = -22393.33866340344 p_3,4 = 0.0\n"
     ]
    }
   ],
   "source": [
    "plot(bines3, hist3,'o') #Canal 3\n",
    "plot(bines1, hist1,'ro')# 4 bines\n",
    "grid('on',ls='-.')\n",
    "yscale('log')\n",
    "xlim(30,70)\n",
    "show()\n",
    "#sm Media de A\n",
    "#m Media de B\n",
    "sv1=sqrt(((sumC+sumA)/(N3+N1-2))*((1/N3)+(1/N1)))\n",
    "# sv Error\n",
    "\n",
    "#tt = (sm-m)/np.sqrt(sv/float(n))  # t-statistic for mean\n",
    "tt=(xmedio3-xmedio1)/sv1\n",
    "pval = t.sf(np.abs(tt), (N3+N1-2))*2  # two-sided pvalue = Prob(abs(t)>tt)\n",
    "#print ('t-statistic = '%6.3f 'pvalue = '%6.4f % (tt, pval))\n",
    "print(\"t_3,4 =\",tt,\"p_3,4 =\",pval)\n",
    "#t-statistic =  0.391 pvalue = 0.6955"
   ]
  },
  {
   "cell_type": "markdown",
   "metadata": {},
   "source": [
    "* ### Comparación ($Ch_3 | 2_{bin}$)"
   ]
  },
  {
   "cell_type": "code",
   "execution_count": 71,
   "metadata": {},
   "outputs": [
    {
     "data": {
      "image/png": "[encoded data removed]",
      "text/plain": [
       "<Figure size 432x288 with 1 Axes>"
      ]
     },
     "metadata": {
      "needs_background": "light"
     },
     "output_type": "display_data"
    },
    {
     "name": "stdout",
     "output_type": "stream",
     "text": [
      "t_3,2 = -19085.01509022731 p_3,2 = 0.0\n"
     ]
    }
   ],
   "source": [
    "plot(bines3, hist3,'o') #canal 3\n",
    "plot(bines2, hist2,'ro') #2bines\n",
    "grid('on',ls='-.')\n",
    "xlim(30,70)\n",
    "yscale('log')\n",
    "show()\n",
    "\n",
    "sv2=sqrt(((sumC+sumB)/(N3+N2-2))*((1/N3)+(1/N2)))\n",
    "# sv Error\n",
    "\n",
    "#tt = (sm-m)/np.sqrt(sv/float(n))  # t-statistic for mean\n",
    "tt2=(xmedio3-xmedio2)/sv2\n",
    "pval2 = t.sf(np.abs(tt2), (N3+N2-2))*2  # two-sided pvalue = Prob(abs(t)>tt)\n",
    "#print ('t-statistic = '%6.3f 'pvalue = '%6.4f % (tt, pval))\n",
    "print(\"t_3,2 =\",tt2,\"p_3,2 =\",pval2)"
   ]
  },
  {
   "cell_type": "markdown",
   "metadata": {},
   "source": [
    "* ### Comparación ($2_{bin} | 4_{bin}$)"
   ]
  },
  {
   "cell_type": "code",
   "execution_count": 70,
   "metadata": {},
   "outputs": [
    {
     "data": {
      "image/png": "[encoded data removed]",
      "text/plain": [
       "<Figure size 432x288 with 1 Axes>"
      ]
     },
     "metadata": {
      "needs_background": "light"
     },
     "output_type": "display_data"
    },
    {
     "name": "stdout",
     "output_type": "stream",
     "text": [
      "t_2,4 = -45.700948537929186 p_2,4 = 0.0\n"
     ]
    }
   ],
   "source": [
    "plot(bines2, hist2,'o') #2 bines\n",
    "plot(bines1, hist1,'ro')#4 bines\n",
    "grid('on',ls='-.')\n",
    "xlim(30,70)\n",
    "yscale('log')\n",
    "show()\n",
    "\n",
    "sv3=sqrt(((sumA+sumB)/(N1+N2-2))*((1/N2)+(1/N2)))\n",
    "# sv Error\n",
    "\n",
    "#tt = (sm-m)/np.sqrt(sv/float(n))  # t-statistic for mean\n",
    "tt3=(xmedio1-xmedio2)/sv3\n",
    "pval3 = t.sf(np.abs(tt3), (N1+N2-2))*2  # two-sided pvalue = Prob(abs(t)>tt)\n",
    "#print ('t-statistic = '%6.3f 'pvalue = '%6.4f % (tt, pval))\n",
    "print(\"t_2,4 =\",tt3,\"p_2,4 =\",pval3)"
   ]
  },
  {
   "cell_type": "markdown",
   "metadata": {},
   "source": [
    "* ### Comparación ($Ch_3 | Art$)"
   ]
  },
  {
   "cell_type": "markdown",
   "metadata": {},
   "source": [
    "#### *Artificial"
   ]
  },
  {
   "cell_type": "code",
   "execution_count": 67,
   "metadata": {},
   "outputs": [
    {
     "name": "stdout",
     "output_type": "stream",
     "text": [
      "Valor Medio es : 40.0\n",
      "t_3,art = -18820.789957384324 p_3,art = 0.0\n"
     ]
    }
   ],
   "source": [
    "m_ar=40\n",
    "s_ar=5\n",
    "ne_ar=1e6\n",
    "\n",
    "dist_art=np.random.normal(m_ar,s_ar,int(ne_ar))\n",
    "nevents_art=len(dist_art)\n",
    "st_bin=0\n",
    "ed_bin=100\n",
    "nb=100\n",
    "bw=(ed_bin-st_bin)\n",
    "\n",
    "x=0\n",
    "for i in range(nevents_art):\n",
    "    x+=dist_art[i]\n",
    "    xmedio_art=x/nevents_art\n",
    "print(\"Valor Medio es :\",round(xmedio_art,2))\n",
    "\n",
    "sum_art=0\n",
    "for i in dist_art: #cuatro bnes\n",
    "    sum_art+=(i-xmedio_art)**2\n",
    "    \n",
    "sv_art=sqrt(((sumC+sum_art)/(N3+nevents_art-2))*((1/N3)+(1/nevents_art)))\n",
    "# sv Error\n",
    "\n",
    "#tt = (sm-m)/np.sqrt(sv/float(n))  # t-statistic for mean\n",
    "tt_art=(xmedio3-xmedio_art)/sv_art\n",
    "pval_art = t.sf(np.abs(tt_art), (N3+nevents_art-2))*2  # two-sided pvalue = Prob(abs(t)>tt)\n",
    "#print ('t-statistic = '%6.3f 'pvalue = '%6.4f % (tt, pval))\n",
    "print(\"t_3,art =\",tt_art,\"p_3,art =\",pval_art)\n",
    "\n",
    "#plot(bines3, hist3,'o')\n",
    "#plot(bines1, hist1,'ro')\n",
    "#grid('on',ls='-.')\n",
    "#xlim(30,70)\n",
    "#show()"
   ]
  },
  {
   "cell_type": "code",
   "execution_count": null,
   "metadata": {},
   "outputs": [],
   "source": []
  }
 ],
 "metadata": {
  "kernelspec": {
   "display_name": "Python 3",
   "language": "python",
   "name": "python3"
  },
  "language_info": {
   "codemirror_mode": {
    "name": "ipython",
    "version": 3
   },
   "file_extension": ".py",
   "mimetype": "text/x-python",
   "name": "python",
   "nbconvert_exporter": "python",
   "pygments_lexer": "ipython3",
   "version": "3.5.2"
  }
 },
 "nbformat": 4,
 "nbformat_minor": 2
}
